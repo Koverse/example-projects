{
 "cells": [
  {
   "cell_type": "code",
   "execution_count": null,
   "source": [
    "from airflow.models import Variable\n",
    "import csv\n",
    "import json\n",
    "import requests"
   ],
   "outputs": [],
   "metadata": {
    "scrolled": true
   }
  },
  {
   "cell_type": "code",
   "execution_count": null,
   "source": [
    "DATASET_ID = ''"
   ],
   "outputs": [],
   "metadata": {}
  },
  {
   "cell_type": "code",
   "execution_count": null,
   "source": [
    "TOKEN = Variable.get(\"kdp_access_token\")\n",
    "CSV_PATH = '/opt/airflow/dags/files/employees.csv'"
   ],
   "outputs": [],
   "metadata": {}
  },
  {
   "cell_type": "code",
   "execution_count": 1,
   "source": [
    "def get_json():\n",
    "    data = []\n",
    "    with open(CSV_PATH, encoding='utf-8') as csvf:\n",
    "        csvReader = csv.DictReader(csvf)\n",
    "        for row in csvReader:\n",
    "            print(row)\n",
    "            data.append(row)\n",
    "    return json.dumps(data)"
   ],
   "outputs": [],
   "metadata": {}
  },
  {
   "cell_type": "code",
   "execution_count": 2,
   "source": [
    "def write_to_kdp4(jsonData, datasetId, token):\n",
    "    url = 'https://api.app.koverse.com/write/' + datasetId\n",
    "    authValue = 'Bearer ' + token\n",
    "    headers = {\"Content-Type\": \"application/json\",\n",
    "               \"Authorization\": authValue}\n",
    "    \n",
    "    print(url)\n",
    "    response = requests.post(url, data=jsonData, headers=headers, timeout=10)\n",
    "    return response"
   ],
   "outputs": [],
   "metadata": {}
  },
  {
   "cell_type": "code",
   "execution_count": 3,
   "source": [
    "def get_data():\n",
    "    url = \"https://raw.githubusercontent.com/apache/airflow/main/docs/apache-airflow/pipeline_example.csv\"\n",
    "\n",
    "    response = requests.request(\"GET\", url)\n",
    "    with open(CSV_PATH, \"w\") as file:\n",
    "        file.write(response.text)\n",
    "        print(\"wrote file to %s\", CSV_PATH)"
   ],
   "outputs": [],
   "metadata": {}
  },
  {
   "cell_type": "code",
   "execution_count": null,
   "source": [
    "def write_data():\n",
    "    data = get_json()\n",
    "#     print(data)\n",
    "    response = write_to_kdp4(data, DATASET_ID, TOKEN)\n",
    "    print(response.content)\n",
    "    print(\"status: \", response)"
   ],
   "outputs": [],
   "metadata": {}
  },
  {
   "cell_type": "code",
   "execution_count": null,
   "source": [
    "get_data()\n",
    "print(\"Got data\")"
   ],
   "outputs": [],
   "metadata": {}
  },
  {
   "cell_type": "code",
   "execution_count": null,
   "source": [
    "write_data()\n",
    "print(\"Wrote data\")"
   ],
   "outputs": [],
   "metadata": {}
  }
 ],
 "metadata": {
  "kernelspec": {
   "display_name": "Python 3 (ipykernel)",
   "language": "python",
   "name": "python3"
  },
  "language_info": {
   "codemirror_mode": {
    "name": "ipython",
    "version": 3
   },
   "file_extension": ".py",
   "mimetype": "text/x-python",
   "name": "python",
   "nbconvert_exporter": "python",
   "pygments_lexer": "ipython3",
   "version": "3.9.10"
  }
 },
 "nbformat": 4,
 "nbformat_minor": 5
}