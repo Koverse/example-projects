{
 "cells": [
  {
   "cell_type": "code",
   "execution_count": 1,
   "id": "5605a7a2",
   "metadata": {
    "execution": {
     "iopub.execute_input": "2022-04-04T22:28:55.922112Z",
     "iopub.status.busy": "2022-04-04T22:28:55.921751Z",
     "iopub.status.idle": "2022-04-04T22:28:57.011184Z",
     "shell.execute_reply": "2022-04-04T22:28:57.009991Z"
    },
    "jupyter": {
     "source_hidden": true
    },
    "papermill": {
     "duration": 1.102067,
     "end_time": "2022-04-04T22:28:57.013377",
     "exception": false,
     "start_time": "2022-04-04T22:28:55.911310",
     "status": "completed"
    },
    "scrolled": true,
    "tags": []
   },
   "outputs": [],
   "source": [
    "from airflow.models import Variable\n",
    "import csv\n",
    "import json\n",
    "import requests"
   ]
  },
  {
   "cell_type": "code",
   "execution_count": 2,
   "id": "9e9e65af",
   "metadata": {
    "execution": {
     "iopub.execute_input": "2022-04-04T22:28:57.023611Z",
     "iopub.status.busy": "2022-04-04T22:28:57.023315Z",
     "iopub.status.idle": "2022-04-04T22:28:57.027621Z",
     "shell.execute_reply": "2022-04-04T22:28:57.026683Z"
    },
    "jupyter": {
     "source_hidden": true
    },
    "papermill": {
     "duration": 0.011415,
     "end_time": "2022-04-04T22:28:57.029661",
     "exception": false,
     "start_time": "2022-04-04T22:28:57.018246",
     "status": "completed"
    },
    "tags": []
   },
   "outputs": [],
   "source": [
    "DATASET_ID = 'e7be3620-9d16-4e42-91a9-50de15b3d692'"
   ]
  },
  {
   "cell_type": "code",
   "execution_count": 3,
   "id": "8bfe69a8",
   "metadata": {
    "execution": {
     "iopub.execute_input": "2022-04-04T22:28:57.040012Z",
     "iopub.status.busy": "2022-04-04T22:28:57.039783Z",
     "iopub.status.idle": "2022-04-04T22:28:57.079555Z",
     "shell.execute_reply": "2022-04-04T22:28:57.078579Z"
    },
    "jupyter": {
     "source_hidden": true
    },
    "papermill": {
     "duration": 0.047836,
     "end_time": "2022-04-04T22:28:57.081742",
     "exception": false,
     "start_time": "2022-04-04T22:28:57.033906",
     "status": "completed"
    },
    "tags": []
   },
   "outputs": [],
   "source": [
    "TOKEN = Variable.get(\"kdp_access_token\")\n",
    "CSV_PATH = '/opt/airflow/dags/files/employees.csv'"
   ]
  },
  {
   "cell_type": "code",
   "execution_count": 4,
   "id": "e0457f2d",
   "metadata": {
    "execution": {
     "iopub.execute_input": "2022-04-04T22:28:57.094487Z",
     "iopub.status.busy": "2022-04-04T22:28:57.092738Z",
     "iopub.status.idle": "2022-04-04T22:28:57.099186Z",
     "shell.execute_reply": "2022-04-04T22:28:57.098198Z"
    },
    "jupyter": {
     "source_hidden": true
    },
    "papermill": {
     "duration": 0.014282,
     "end_time": "2022-04-04T22:28:57.101081",
     "exception": false,
     "start_time": "2022-04-04T22:28:57.086799",
     "status": "completed"
    },
    "tags": []
   },
   "outputs": [],
   "source": [
    "def get_json():\n",
    "    data = []\n",
    "    with open(CSV_PATH, encoding='utf-8') as csvf:\n",
    "        csvReader = csv.DictReader(csvf)\n",
    "        for row in csvReader:\n",
    "            print(row)\n",
    "            data.append(row)\n",
    "    return json.dumps(data)"
   ]
  },
  {
   "cell_type": "code",
   "execution_count": 5,
   "id": "07aedd7d",
   "metadata": {
    "execution": {
     "iopub.execute_input": "2022-04-04T22:28:57.111746Z",
     "iopub.status.busy": "2022-04-04T22:28:57.111460Z",
     "iopub.status.idle": "2022-04-04T22:28:57.116715Z",
     "shell.execute_reply": "2022-04-04T22:28:57.115842Z"
    },
    "jupyter": {
     "source_hidden": true
    },
    "papermill": {
     "duration": 0.013512,
     "end_time": "2022-04-04T22:28:57.118792",
     "exception": false,
     "start_time": "2022-04-04T22:28:57.105280",
     "status": "completed"
    },
    "tags": []
   },
   "outputs": [],
   "source": [
    "def write_to_kdp4(jsonData, datasetId, token):\n",
    "    url = 'https://api.dev.koverse.com/write/' + datasetId\n",
    "    authValue = 'Bearer ' + token\n",
    "    headers = {\"Content-Type\": \"application/json\",\n",
    "               \"Authorization\": authValue}\n",
    "    \n",
    "    print(url)\n",
    "    response = requests.post(url, data=jsonData, headers=headers, timeout=10)\n",
    "    return response"
   ]
  },
  {
   "cell_type": "code",
   "execution_count": 6,
   "id": "ff6da535",
   "metadata": {
    "execution": {
     "iopub.execute_input": "2022-04-04T22:28:57.130365Z",
     "iopub.status.busy": "2022-04-04T22:28:57.130111Z",
     "iopub.status.idle": "2022-04-04T22:28:57.135206Z",
     "shell.execute_reply": "2022-04-04T22:28:57.134540Z"
    },
    "jupyter": {
     "source_hidden": true
    },
    "papermill": {
     "duration": 0.014288,
     "end_time": "2022-04-04T22:28:57.137820",
     "exception": false,
     "start_time": "2022-04-04T22:28:57.123532",
     "status": "completed"
    },
    "tags": []
   },
   "outputs": [],
   "source": [
    "def get_data():\n",
    "    url = \"https://raw.githubusercontent.com/apache/airflow/main/docs/apache-airflow/pipeline_example.csv\"\n",
    "\n",
    "    response = requests.request(\"GET\", url)\n",
    "    with open(CSV_PATH, \"w\") as file:\n",
    "        file.write(response.text)\n",
    "        print(\"wrote file to %s\", CSV_PATH)"
   ]
  },
  {
   "cell_type": "code",
   "execution_count": 7,
   "id": "5fd1408b",
   "metadata": {
    "execution": {
     "iopub.execute_input": "2022-04-04T22:28:57.149286Z",
     "iopub.status.busy": "2022-04-04T22:28:57.149041Z",
     "iopub.status.idle": "2022-04-04T22:28:57.153489Z",
     "shell.execute_reply": "2022-04-04T22:28:57.152657Z"
    },
    "jupyter": {
     "source_hidden": true
    },
    "papermill": {
     "duration": 0.012019,
     "end_time": "2022-04-04T22:28:57.155355",
     "exception": false,
     "start_time": "2022-04-04T22:28:57.143336",
     "status": "completed"
    },
    "tags": []
   },
   "outputs": [],
   "source": [
    "def write_data():\n",
    "    data = get_json()\n",
    "#     print(data)\n",
    "    response = write_to_kdp4(data, DATASET_ID, TOKEN)\n",
    "    print(response.content)\n",
    "    print(\"status: \", response)"
   ]
  },
  {
   "cell_type": "code",
   "execution_count": 8,
   "id": "3b6d0dd3",
   "metadata": {
    "execution": {
     "iopub.execute_input": "2022-04-04T22:28:57.167363Z",
     "iopub.status.busy": "2022-04-04T22:28:57.167047Z",
     "iopub.status.idle": "2022-04-04T22:28:57.255416Z",
     "shell.execute_reply": "2022-04-04T22:28:57.254282Z"
    },
    "jupyter": {
     "source_hidden": true
    },
    "papermill": {
     "duration": 0.097094,
     "end_time": "2022-04-04T22:28:57.257512",
     "exception": false,
     "start_time": "2022-04-04T22:28:57.160418",
     "status": "completed"
    },
    "tags": []
   },
   "outputs": [
    {
     "name": "stdout",
     "output_type": "stream",
     "text": [
      "wrote file to %s /opt/airflow/dags/files/employees.csv\n",
      "Got data\n"
     ]
    }
   ],
   "source": [
    "get_data()\n",
    "print(\"Got data\")"
   ]
  },
  {
   "cell_type": "code",
   "execution_count": 9,
   "id": "5ee844ff",
   "metadata": {
    "execution": {
     "iopub.execute_input": "2022-04-04T22:28:57.269321Z",
     "iopub.status.busy": "2022-04-04T22:28:57.269043Z",
     "iopub.status.idle": "2022-04-04T22:28:58.151488Z",
     "shell.execute_reply": "2022-04-04T22:28:58.150373Z"
    },
    "jupyter": {
     "source_hidden": true
    },
    "papermill": {
     "duration": 0.891134,
     "end_time": "2022-04-04T22:28:58.153950",
     "exception": false,
     "start_time": "2022-04-04T22:28:57.262816",
     "status": "completed"
    },
    "tags": []
   },
   "outputs": [
    {
     "name": "stdout",
     "output_type": "stream",
     "text": [
      "OrderedDict([('Serial Number', '2'), ('Company Name', 'TALES OF SHIVA'), ('Employee Markme', 'Mark'), ('Description', 'mark'), ('Leave', '0')])\n",
      "OrderedDict([('Serial Number', '3'), ('Company Name', '1Q84 THE COMPLETE TRILOGY'), ('Employee Markme', 'HARUKI MURAKAMI'), ('Description', 'Mark'), ('Leave', '0')])\n",
      "OrderedDict([('Serial Number', '4'), ('Company Name', 'MY KUMAN'), ('Employee Markme', 'Mark'), ('Description', 'Mark'), ('Leave', '0')])\n",
      "OrderedDict([('Serial Number', '5'), ('Company Name', 'THE GOD OF SMAAL THINGS'), ('Employee Markme', 'ARUNDHATI ROY'), ('Description', '4TH HARPER COLLINS'), ('Leave', '2')])\n",
      "OrderedDict([('Serial Number', '6'), ('Company Name', 'THE BLACK CIRCLE'), ('Employee Markme', 'Mark'), ('Description', '4TH HARPER COLLINS'), ('Leave', '0')])\n",
      "OrderedDict([('Serial Number', '7'), ('Company Name', 'THE THREE LAWS OF PERFORMANCE'), ('Employee Markme', 'Mark'), ('Description', '4TH HARPER COLLINS'), ('Leave', '0')])\n",
      "OrderedDict([('Serial Number', '8'), ('Company Name', 'CHAMarkKYA MANTRA'), ('Employee Markme', 'Mark'), ('Description', '4TH HARPER COLLINS'), ('Leave', '0')])\n",
      "OrderedDict([('Serial Number', '9'), ('Company Name', '59.FLAGS'), ('Employee Markme', 'Mark'), ('Description', '4TH HARPER COLLINS'), ('Leave', '0')])\n",
      "OrderedDict([('Serial Number', '10'), ('Company Name', 'THE POWER OF POSITIVE THINKING FROM'), ('Employee Markme', 'Mark'), ('Description', 'A & A PUBLISHER'), ('Leave', '0')])\n",
      "OrderedDict([('Serial Number', '11'), ('Company Name', 'YOU CAN IF YO THINK YO CAN'), ('Employee Markme', 'PEALE'), ('Description', 'A & A PUBLISHER'), ('Leave', '0')])\n",
      "OrderedDict([('Serial Number', '12'), ('Company Name', 'DONGRI SE DUBAI TAK (MPH)'), ('Employee Markme', 'Mark'), ('Description', 'A & A PUBLISHER'), ('Leave', '0')])\n",
      "OrderedDict([('Serial Number', '13'), ('Company Name', 'MarkLANDA ADYTAN KOSH'), ('Employee Markme', 'Mark'), ('Description', 'AADISH BOOK DEPOT'), ('Leave', '0')])\n",
      "OrderedDict([('Serial Number', '14'), ('Company Name', 'MarkLANDA VISHAL SHABD SAGAR'), ('Employee Markme', '-'), ('Description', 'AADISH BOOK DEPOT'), ('Leave', '1')])\n",
      "OrderedDict([('Serial Number', '15'), ('Company Name', 'MarkLANDA CONCISE DICT(ENG TO HINDI)'), ('Employee Markme', 'Mark'), ('Description', 'AADISH BOOK DEPOT'), ('Leave', '0')])\n",
      "OrderedDict([('Serial Number', '16'), ('Company Name', 'LIEUTEMarkMarkT GENERAL BHAGAT: A SAGA OF BRAVERY AND LEADERSHIP'), ('Employee Markme', 'Mark'), ('Description', 'AAM COMICS'), ('Leave', '2')])\n",
      "OrderedDict([('Serial Number', '17'), ('Company Name', 'LN. MarkIK SUNDER SINGH'), ('Employee Markme', 'N.A'), ('Description', 'AAN COMICS'), ('Leave', '0')])\n",
      "OrderedDict([('Serial Number', '18'), ('Company Name', 'I AM KRISHMark'), ('Employee Markme', 'DEEP TRIVEDI'), ('Description', 'AATMAN INNOVATIONS PVT LTD'), ('Leave', '1')])\n",
      "OrderedDict([('Serial Number', '19'), ('Company Name', \"DON'T TEACH ME TOLERANCE INDIA\"), ('Employee Markme', 'DEEP TRIVEDI'), ('Description', 'AATMAN INNOVATIONS PVT LTD'), ('Leave', '0')])\n",
      "OrderedDict([('Serial Number', '20'), ('Company Name', 'MUJHE SAHISHNUTA MAT SIKHAO BHARAT'), ('Employee Markme', 'DEEP TRIVEDI'), ('Description', 'AATMAN INNOVATIONS PVT LTD'), ('Leave', '0')])\n",
      "OrderedDict([('Serial Number', '21'), ('Company Name', 'SECRETS OF DESTINY'), ('Employee Markme', 'DEEP TRIVEDI'), ('Description', 'AATMAN INNOVATIONS PVT LTD'), ('Leave', '1')])\n",
      "OrderedDict([('Serial Number', '22'), ('Company Name', 'BHAGYA KE RAHASYA (HINDI) SECRET OF DESTINY'), ('Employee Markme', 'DEEP TRIVEDI'), ('Description', 'AATMAN INNOVATIONS PVT LTD'), ('Leave', '1')])\n",
      "OrderedDict([('Serial Number', '23'), ('Company Name', 'MEIN MANN HOON'), ('Employee Markme', 'DEEP TRIVEDI'), ('Description', 'AATMAN INNOVATIONS PVT LTD'), ('Leave', '0')])\n",
      "OrderedDict([('Serial Number', '24'), ('Company Name', 'I AM THE MIND'), ('Employee Markme', 'DEEP TRIVEDI'), ('Description', 'AATMARAM & SONS'), ('Leave', '0')])\n",
      "OrderedDict([('Serial Number', '25'), ('Company Name', 'THE ART OF CHOOSING'), ('Employee Markme', 'SHEEMark IYENGAR'), ('Description', 'ABACUS'), ('Leave', '0')])\n",
      "OrderedDict([('Serial Number', '26'), ('Company Name', 'IN SPITE OF THE GODS'), ('Employee Markme', 'EDWARD LUCE'), ('Description', 'ABACUS'), ('Leave', '1')])\n",
      "OrderedDict([('Serial Number', '27'), ('Company Name', 'QUESTIONS & ANWERS ABOUT THE GREAT BIBLE'), ('Employee Markme', 'Mark'), ('Description', 'ABC PUBLISHERS DISTRIBUTORS'), ('Leave', '4')])\n",
      "OrderedDict([('Serial Number', '28'), ('Company Name', 'NIBANDH EVAM KAHANI LEKHAN { HINDI }'), ('Employee Markme', 'Mark'), ('Description', 'ABHI BOOKS'), ('Leave', '1')])\n",
      "OrderedDict([('Serial Number', '29'), ('Company Name', 'INDIAN ECONOMY SINCE INDEPENDENCE 27TH /E'), ('Employee Markme', 'UMA KAPILA'), ('Description', 'ACADEMIC FOUNDATION'), ('Leave', '1')])\n",
      "OrderedDict([('Serial Number', '30'), ('Company Name', 'ECONOMIC DEVELOPMENT AND POLICY IN INDIA'), ('Employee Markme', 'UMA KAPILA'), ('Description', 'ACADEMIC FOUNDATION'), ('Leave', '1')])\n",
      "OrderedDict([('Serial Number', '31'), ('Company Name', 'INDIAN ECONOMY PERFORMANCE 18TH/E  2017-2018'), ('Employee Markme', 'UMA KAPILA'), ('Description', 'ACADEMIC FOUNDATION'), ('Leave', '2')])\n",
      "OrderedDict([('Serial Number', '32'), ('Company Name', 'INDIAN ECONOMIC DEVELOPMENTSINCE 1947 (NO RETURMarkBLE)'), ('Employee Markme', 'UMA KAPILA'), ('Description', 'ACADEMIC FOUNDATION'), ('Leave', '1')])\n",
      "OrderedDict([('Serial Number', '33'), ('Company Name', 'PRELIMS SPECIAL READING COMPREHENSION PAPER II CSAT'), ('Employee Markme', 'MarkGENDRA PRATAP'), ('Description', 'ACCESS PUBLISHING INDIA PVT.LTD'), ('Leave', '0')])\n",
      "OrderedDict([('Serial Number', '34'), ('Company Name', 'THE CONSTITUTION OF INDIA 2ND / E'), ('Employee Markme', 'AR KHAN'), ('Description', 'ACCESS PUBLISHING INDIA PVT.LTD'), ('Leave', '10')])\n",
      "OrderedDict([('Serial Number', '35'), ('Company Name', 'INDIAN HERITAGE ,ART & CULTURE'), ('Employee Markme', 'MADHUKAR'), ('Description', 'ACCESS PUBLISHING INDIA PVT.LTD'), ('Leave', '10')])\n",
      "OrderedDict([('Serial Number', '36'), ('Company Name', 'BHARAT KA SAMVIDHAN'), ('Employee Markme', 'AR KHAN'), ('Description', 'ACCESS PUBLISHING INDIA PVT.LTD'), ('Leave', '4')])\n",
      "OrderedDict([('Serial Number', '37'), ('Company Name', 'ETHICS, INTEGRITY & APTITUDE ( 3RD/E)'), ('Employee Markme', 'P N ROY ,G SUBBA RAO'), ('Description', 'ACCESS PUBLISHING INDIA PVT.LTD'), ('Leave', '10')])\n",
      "OrderedDict([('Serial Number', '38'), ('Company Name', 'GENERAL STUDIES PAPER -- I (2016)'), ('Employee Markme', 'Mark'), ('Description', 'ACCESS PUBLISHING INDIA PVT.LTD'), ('Leave', '0')])\n",
      "OrderedDict([('Serial Number', '39'), ('Company Name', 'GENERAL STUDIES PAPER - II (2016)'), ('Employee Markme', 'Mark'), ('Description', 'ACCESS PUBLISHING INDIA PVT.LTD'), ('Leave', '0')])\n",
      "OrderedDict([('Serial Number', '40'), ('Company Name', 'INDIAN AND WORLD GEOGRAPHY 2E'), ('Employee Markme', 'D R KHULLAR'), ('Description', 'ACCESS PUBLISHING INDIA PVT.LTD'), ('Leave', '10')])\n",
      "OrderedDict([('Serial Number', '41'), ('Company Name', 'VASTUNISTHA PRASHN SANGRAHA: BHARAT KA ITIHAS'), ('Employee Markme', 'MEEMarkKSHI KANT'), ('Description', 'ACCESS PUBLISHING INDIA PVT.LTD'), ('Leave', '0')])\n",
      "OrderedDict([('Serial Number', '42'), ('Company Name', 'PHYSICAL, HUMAN AND ECONOMIC GEOGRAPHY'), ('Employee Markme', 'D R KHULLAR'), ('Description', 'ACCESS PUBLISHING INDIA PVT.LTD'), ('Leave', '4')])\n",
      "OrderedDict([('Serial Number', '43'), ('Company Name', 'WORLD GEOGRAPHY'), ('Employee Markme', 'DR KHULLAR'), ('Description', 'ACCESS PUBLISHING INDIA PVT.LTD'), ('Leave', '5')])\n",
      "OrderedDict([('Serial Number', '44'), ('Company Name', 'INDIA: MAP ENTRIES IN GEOGRAPHY'), ('Employee Markme', 'MAJID HUSAIN'), ('Description', 'ACCESS PUBLISHING INDIA PVT.LTD'), ('Leave', '5')])\n",
      "OrderedDict([('Serial Number', '45'), ('Company Name', 'GOOD GOVERMarkNCE IN INDIA 2/ED.'), ('Employee Markme', 'G SUBBA RAO'), ('Description', 'ACCESS PUBLISHING INDIA PVT.LTD'), ('Leave', '1')])\n",
      "OrderedDict([('Serial Number', '46'), ('Company Name', 'KAMYABI KE SUTRA-CIVIL SEWA PARIKSHA AAP KI MUTTHI MEIN'), ('Employee Markme', 'ASHOK KUMAR'), ('Description', 'ACCESS PUBLISHING INDIA PVT.LTD'), ('Leave', '0')])\n",
      "OrderedDict([('Serial Number', '47'), ('Company Name', 'GENERAL SCIENCE PRELIRY EXAM'), ('Employee Markme', 'Mark'), ('Description', 'ACCESS PUBLISHING INDIA PVT.LTD'), ('Leave', '0')])\n",
      "OrderedDict([('Serial Number', '48'), ('Company Name', 'SUCCESS AND DYSLEXIA'), ('Employee Markme', 'SUCCESS AND DYSLEXIA'), ('Description', 'ACER PRESS'), ('Leave', '0')])\n",
      "OrderedDict([('Serial Number', '49'), ('Company Name', 'AN EXTRAORDIMarkRY SCHOOL'), ('Employee Markme', 'SARA JAMES'), ('Description', 'ACER PRESS'), ('Leave', '0')])\n",
      "OrderedDict([('Serial Number', '50'), ('Company Name', 'POWERFUL PRACTICES FOR READING IMPROVEMENT'), ('Employee Markme', 'GLASSWELL'), ('Description', 'ACER PRESS'), ('Leave', '0')])\n",
      "OrderedDict([('Serial Number', '51'), ('Company Name', 'EARLY CHILDHOOD PLAY MATTERS'), ('Employee Markme', 'SHOMark BASS'), ('Description', 'ACER PRESS'), ('Leave', '0')])\n",
      "OrderedDict([('Serial Number', '52'), ('Company Name', 'LEADING LEARNING AND TEACHING'), ('Employee Markme', 'STEPHEN DINHAM'), ('Description', 'ACER PRESS'), ('Leave', '0')])\n",
      "OrderedDict([('Serial Number', '53'), ('Company Name', 'READING AND LEARNING DIFFICULTIES'), ('Employee Markme', 'PETER WESTWOOD'), ('Description', 'ACER PRESS'), ('Leave', '0')])\n",
      "OrderedDict([('Serial Number', '54'), ('Company Name', 'NUMERACY AND LEARNING DIFFICULTIES'), ('Employee Markme', 'PETER WOODLAND]'), ('Description', 'ACER PRESS'), ('Leave', '0')])\n",
      "OrderedDict([('Serial Number', '55'), ('Company Name', 'TEACHING AND LEARNING DIFFICULTIES'), ('Employee Markme', 'PETER WOODLAND'), ('Description', 'ACER PRESS'), ('Leave', '0')])\n",
      "OrderedDict([('Serial Number', '56'), ('Company Name', 'USING DATA TO IMPROVE LEARNING'), ('Employee Markme', 'ANTHONY SHADDOCK'), ('Description', 'ACER PRESS'), ('Leave', '0')])\n",
      "OrderedDict([('Serial Number', '57'), ('Company Name', 'PATHWAYS TO SCHOOL SYSTEM IMPROVEMENT'), ('Employee Markme', 'MICHAEL GAFFNEY'), ('Description', 'ACER PRESS'), ('Leave', '0')])\n",
      "OrderedDict([('Serial Number', '58'), ('Company Name', 'FOR THOSE WHO TEACH'), ('Employee Markme', 'PHIL RIDDEN'), ('Description', 'ACER PRESS'), ('Leave', '0')])\n",
      "OrderedDict([('Serial Number', '59'), ('Company Name', 'KEYS TO SCHOOL LEADERSHIP'), ('Employee Markme', 'PHIL RIDDEN & JOHN DE NOBILE'), ('Description', 'ACER PRESS'), ('Leave', '0')])\n",
      "OrderedDict([('Serial Number', '60'), ('Company Name', 'DIVERSE LITERACIES IN EARLY CHILDHOOD'), ('Employee Markme', 'LEONIE ARTHUR'), ('Description', 'ACER PRESS'), ('Leave', '0')])\n",
      "OrderedDict([('Serial Number', '61'), ('Company Name', 'CREATIVE ARTS IN THE LIVESOF YOUNG CHILDREN'), ('Employee Markme', 'ROBYN EWING'), ('Description', 'ACER PRESS'), ('Leave', '0')])\n",
      "OrderedDict([('Serial Number', '62'), ('Company Name', 'SOCIAL AND EMOTIOMarkL DEVELOPMENT'), ('Employee Markme', 'ROS LEYDEN AND ERIN SHALE'), ('Description', 'ACER PRESS'), ('Leave', '0')])\n",
      "OrderedDict([('Serial Number', '63'), ('Company Name', 'DISCUSSIONS IN SCIENCE'), ('Employee Markme', 'TIM SPROD'), ('Description', 'ACER PRESS'), ('Leave', '0')])\n",
      "OrderedDict([('Serial Number', '64'), ('Company Name', 'YOUNG CHILDREN LEARNING MATHEMATICS'), ('Employee Markme', 'ROBERT HUNTING'), ('Description', 'ACER PRESS'), ('Leave', '0')])\n",
      "OrderedDict([('Serial Number', '65'), ('Company Name', 'COACHING CHILDREN'), ('Employee Markme', 'KELLY SUMICH'), ('Description', 'ACER PRESS'), ('Leave', '1')])\n",
      "OrderedDict([('Serial Number', '66'), ('Company Name', 'TEACHING PHYSICAL EDUCATIOMarkL IN PRIMARY SCHOOL'), ('Employee Markme', 'JANET L CURRIE'), ('Description', 'ACER PRESS'), ('Leave', '0')])\n",
      "OrderedDict([('Serial Number', '67'), ('Company Name', 'ASSESSMENT AND REPORTING'), ('Employee Markme', 'PHIL RIDDEN AND SANDY'), ('Description', 'ACER PRESS'), ('Leave', '0')])\n",
      "OrderedDict([('Serial Number', '68'), ('Company Name', 'COLLABORATION IN LEARNING'), ('Employee Markme', 'MAL LEE AND LORRAE WARD'), ('Description', 'ACER PRESS'), ('Leave', '0')])\n",
      "OrderedDict([('Serial Number', '69'), ('Company Name', 'RE-IMAGINING EDUCATIMarkL LEADERSHIP'), ('Employee Markme', 'BRIAN J.CALDWELL'), ('Description', 'ACER PRESS'), ('Leave', '0')])\n",
      "OrderedDict([('Serial Number', '70'), ('Company Name', 'TOWARDS A MOVING SCHOOL'), ('Employee Markme', 'FLEMING & KLEINHENZ'), ('Description', 'ACER PRESS'), ('Leave', '0')])\n",
      "OrderedDict([('Serial Number', '71'), ('Company Name', 'DESIGNING A THINKING A CURRICULAM'), ('Employee Markme', 'SUSAN WILKS'), ('Description', 'ACER PRESS'), ('Leave', '0')])\n",
      "OrderedDict([('Serial Number', '72'), ('Company Name', 'LEADING A DIGITAL SCHOOL'), ('Employee Markme', 'MAL LEE AND MICHEAL GAFFNEY'), ('Description', 'ACER PRESS'), ('Leave', '0')])\n",
      "OrderedDict([('Serial Number', '73'), ('Company Name', 'NUMERACY'), ('Employee Markme', 'WESTWOOD'), ('Description', 'ACER PRESS'), ('Leave', '0')])\n",
      "OrderedDict([('Serial Number', '74'), ('Company Name', 'TEACHING ORAL LANGUAGE'), ('Employee Markme', 'JOHN MUNRO'), ('Description', 'ACER PRESS'), ('Leave', '0')])\n",
      "OrderedDict([('Serial Number', '75'), ('Company Name', 'SPELLING'), ('Employee Markme', 'WESTWOOD'), ('Description', 'ACER PRESS'), ('Leave', '0')])\n",
      "OrderedDict([('Serial Number', '76'), ('Company Name', 'STORIES OF SHIVA'), ('Employee Markme', 'Mark'), ('Description', 'ACK'), ('Leave', '0')])\n",
      "OrderedDict([('Serial Number', '77'), ('Company Name', 'JAMSET  JI TATA: THE MAN WHO SAW TOMORROW'), ('Employee Markme', ''), ('Description', 'ACK'), ('Leave', '0')])\n",
      "OrderedDict([('Serial Number', '78'), ('Company Name', 'HEROES FROM THE MAHABHARTA { 5-IN-1 }'), ('Employee Markme', 'Mark'), ('Description', 'ACK'), ('Leave', '0')])\n",
      "OrderedDict([('Serial Number', '79'), ('Company Name', 'SURYA'), ('Employee Markme', ''), ('Description', 'ACK'), ('Leave', '0')])\n",
      "OrderedDict([('Serial Number', '80'), ('Company Name', 'TALES OF THE MOTHER GODDESS'), ('Employee Markme', '-'), ('Description', 'ACK'), ('Leave', '0')])\n",
      "OrderedDict([('Serial Number', '81'), ('Company Name', 'ADVENTURES OF KRISHMark'), ('Employee Markme', 'Mark'), ('Description', 'ACK'), ('Leave', '0')])\n",
      "OrderedDict([('Serial Number', '82'), ('Company Name', 'MAHATMA GANDHI'), ('Employee Markme', 'Mark'), ('Description', 'ACK'), ('Leave', '1')])\n",
      "OrderedDict([('Serial Number', '83'), ('Company Name', 'TALES FROM THE PANCHATANTRA 3-IN-1'), ('Employee Markme', '-'), ('Description', 'ACK'), ('Leave', '0')])\n",
      "OrderedDict([('Serial Number', '84'), ('Company Name', 'YET MORE TALES FROM THE JATAKAS { 3-IN-1 }'), ('Employee Markme', 'AMarkNT PAI'), ('Description', 'ACK'), ('Leave', '0')])\n",
      "OrderedDict([('Serial Number', '85'), ('Company Name', 'LEGENDARY RULERS OF INDIA'), ('Employee Markme', '-'), ('Description', 'ACK'), ('Leave', '0')])\n",
      "OrderedDict([('Serial Number', '86'), ('Company Name', 'GREAT INDIAN CLASSIC'), ('Employee Markme', 'Mark'), ('Description', 'ACK'), ('Leave', '0')])\n",
      "OrderedDict([('Serial Number', '87'), ('Company Name', \"TULSIDAS ' RAMAYAMark\"), ('Employee Markme', 'Mark'), ('Description', 'ACK'), ('Leave', '0')])\n",
      "OrderedDict([('Serial Number', '88'), ('Company Name', 'TALES OF HANUMAN'), ('Employee Markme', '-'), ('Description', 'ACK'), ('Leave', '0')])\n",
      "OrderedDict([('Serial Number', '89'), ('Company Name', \"VALMIKI'S RAMAYAMark\"), ('Employee Markme', 'A C K'), ('Description', 'ACK'), ('Leave', '1')])\n",
      "OrderedDict([('Serial Number', '90'), ('Company Name', 'THE BEST OF INDIAN WIT AND WISDOM'), ('Employee Markme', 'Mark'), ('Description', 'ACK'), ('Leave', '0')])\n",
      "OrderedDict([('Serial Number', '91'), ('Company Name', 'MORE TALES FROM THE PANCHTANTRA'), ('Employee Markme', 'AMarkNT PAL'), ('Description', 'ACK'), ('Leave', '0')])\n",
      "OrderedDict([('Serial Number', '92'), ('Company Name', 'THE GREAT MUGHALS {5-IN-1}'), ('Employee Markme', 'AMarkNT.'), ('Description', 'ACK'), ('Leave', '0')])\n",
      "OrderedDict([('Serial Number', '93'), ('Company Name', 'FAMOUS SCIENTISTS'), ('Employee Markme', 'Mark'), ('Description', 'ACK'), ('Leave', '0')])\n",
      "OrderedDict([('Serial Number', '94'), ('Company Name', 'KOMarkRK'), ('Employee Markme', 'Mark'), ('Description', 'ACK'), ('Leave', '0')])\n",
      "OrderedDict([('Serial Number', '95'), ('Company Name', 'THE MUGHAL COURT'), ('Employee Markme', 'REEMark'), ('Description', 'ACK'), ('Leave', '0')])\n",
      "OrderedDict([('Serial Number', '96'), ('Company Name', 'MORE STORIES FROM THE JATAKAS'), ('Employee Markme', 'Mark'), ('Description', 'ACK'), ('Leave', '0')])\n",
      "https://api.dev.koverse.com/write/e7be3620-9d16-4e42-91a9-50de15b3d692\n"
     ]
    },
    {
     "name": "stdout",
     "output_type": "stream",
     "text": [
      "b'{\"workspace\":\"gs_test\",\"datasetId\":\"e7be3620-9d16-4e42-91a9-50de15b3d692\",\"partitions\":[0,1,2,3,4,5,6,7,8,9]}'\n",
      "status:  <Response [200]>\n",
      "Wrote data\n"
     ]
    }
   ],
   "source": [
    "write_data()\n",
    "print(\"Wrote data\")"
   ]
  }
 ],
 "metadata": {
  "kernelspec": {
   "display_name": "Python 3 (ipykernel)",
   "language": "python",
   "name": "python3"
  },
  "language_info": {
   "codemirror_mode": {
    "name": "ipython",
    "version": 3
   },
   "file_extension": ".py",
   "mimetype": "text/x-python",
   "name": "python",
   "nbconvert_exporter": "python",
   "pygments_lexer": "ipython3",
   "version": "3.7.13"
  },
  "papermill": {
   "default_parameters": {},
   "duration": 4.82382,
   "end_time": "2022-04-04T22:28:58.584131",
   "environment_variables": {},
   "exception": null,
   "input_path": "/opt/airflow/notebooks/airflow_test_write.ipynb",
   "output_path": "/opt/airflow/notebooks/test_out.ipynb",
   "parameters": {},
   "start_time": "2022-04-04T22:28:53.760311",
   "version": "2.3.4"
  }
 },
 "nbformat": 4,
 "nbformat_minor": 5
}