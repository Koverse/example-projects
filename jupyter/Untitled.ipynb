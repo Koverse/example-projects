{
 "cells": [
  {
   "cell_type": "code",
   "execution_count": 1,
   "id": "6a95a04c-ef08-41f0-933a-92437606425c",
   "metadata": {},
   "outputs": [],
   "source": [
    "import pandas\n",
    "import numpy"
   ]
  },
  {
   "cell_type": "code",
   "execution_count": 3,
   "id": "e2ce7c6e-a694-43df-b4ef-17cf3fab62e7",
   "metadata": {},
   "outputs": [],
   "source": [
    "import matplotlib"
   ]
  },
  {
   "cell_type": "code",
   "execution_count": 3,
   "id": "f9b5c411-a8e0-47eb-a3ba-df3b8b4799a2",
   "metadata": {},
   "outputs": [],
   "source": [
    "import requests"
   ]
  },
  {
   "cell_type": "code",
   "execution_count": 2,
   "id": "a82a7c76-2256-4199-83e2-699788cd96fe",
   "metadata": {},
   "outputs": [],
   "source": [
    "import datetime\n",
    "import csv\n",
    "import json\n",
    "import requests"
   ]
  },
  {
   "cell_type": "code",
   "execution_count": null,
   "id": "7dd607d4-080e-4033-ac8f-2f89a3547177",
   "metadata": {},
   "outputs": [],
   "source": [
    "CSV_PATH = '/files/employees.csv'\n",
    "\n",
    "DATASET_ID = 'e7be3620-9d16-4e42-91a9-50de15b3d692'\n",
    "\n",
    "##working on this\n",
    "TOKEN = Variable.get(\"kdp_access_token\")\n",
    "\n",
    "def get_json():\n",
    "    data = []\n",
    "    with open(CSV_PATH, encoding='utf-8') as csvf:\n",
    "        csvReader = csv.DictReader(csvf)\n",
    "        for row in csvReader:\n",
    "            print(row)\n",
    "            data.append(row)\n",
    "    return json.dumps(data)\n",
    "\n",
    "def write_to_kdp4(jsonData, datasetId, token):\n",
    "    url = 'https://api.dev.koverse.com/write/' + datasetId\n",
    "    authValue = 'Bearer ' + token\n",
    "    headers = {\"Content-Type\": \"application/json\",\n",
    "               \"Authorization\": authValue}\n",
    "    \n",
    "    print(url)\n",
    "    response = requests.post(url, data=jsonData, headers=headers, timeout=10)\n",
    "    return response\n",
    "\n",
    "\n",
    "def write_data():\n",
    "    data = get_json()\n",
    "    response = write_to_kdp4(data, DATASET_ID, TOKEN)\n",
    "    print(response.content)\n",
    "    print(\"status: \", response)\n",
    "    if response.status_code == 200:\n",
    "        return 0\n",
    "    else:\n",
    "        return 1\n"
   ]
  }
 ],
 "metadata": {
  "kernelspec": {
   "display_name": "Python 3 (ipykernel)",
   "language": "python",
   "name": "python3"
  },
  "language_info": {
   "codemirror_mode": {
    "name": "ipython",
    "version": 3
   },
   "file_extension": ".py",
   "mimetype": "text/x-python",
   "name": "python",
   "nbconvert_exporter": "python",
   "pygments_lexer": "ipython3",
   "version": "3.9.10"
  }
 },
 "nbformat": 4,
 "nbformat_minor": 5
}
