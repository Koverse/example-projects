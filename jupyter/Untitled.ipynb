{
 "cells": [
  {
   "cell_type": "code",
   "execution_count": 1,
   "id": "6a95a04c-ef08-41f0-933a-92437606425c",
   "metadata": {},
   "outputs": [],
   "source": [
    "import pandas\n",
    "import numpy"
   ]
  },
  {
   "cell_type": "code",
   "execution_count": 2,
   "id": "e2ce7c6e-a694-43df-b4ef-17cf3fab62e7",
   "metadata": {},
   "outputs": [],
   "source": [
    "import matplotlib"
   ]
  },
  {
   "cell_type": "code",
   "execution_count": 3,
   "id": "f9b5c411-a8e0-47eb-a3ba-df3b8b4799a2",
   "metadata": {},
   "outputs": [],
   "source": [
    "import requests"
   ]
  },
  {
   "cell_type": "code",
   "execution_count": 4,
   "id": "a82a7c76-2256-4199-83e2-699788cd96fe",
   "metadata": {},
   "outputs": [],
   "source": [
    "import datetime\n",
    "import csv\n",
    "import json\n",
    "import requests"
   ]
  },
  {
   "cell_type": "code",
   "execution_count": 5,
   "id": "b46c9ecf-afa2-44df-8304-610d8e837f6b",
   "metadata": {},
   "outputs": [],
   "source": [
    "import oauthenticator"
   ]
  },
  {
   "cell_type": "code",
   "execution_count": 6,
   "id": "cdfcd74c-45b0-451b-a770-7b0e1cd8a8d6",
   "metadata": {},
   "outputs": [],
   "source": [
    "import os"
   ]
  },
  {
   "cell_type": "code",
   "execution_count": 7,
   "id": "345522bd-d50e-4250-af56-864924fe51e9",
   "metadata": {},
   "outputs": [],
   "source": [
    "import tornado"
   ]
  },
  {
   "cell_type": "code",
   "execution_count": 8,
   "id": "f768894b-b37c-4c37-8aa1-e545ebd30e07",
   "metadata": {},
   "outputs": [],
   "source": [
    "import jupyter_core"
   ]
  },
  {
   "cell_type": "code",
   "execution_count": 9,
   "id": "839b00de-03a5-4a10-92ad-914575f12ad0",
   "metadata": {},
   "outputs": [],
   "source": [
    "import jupyterhub"
   ]
  },
  {
   "cell_type": "code",
   "execution_count": 10,
   "id": "ecaf06ef-4546-4299-9e15-7e9833d98263",
   "metadata": {},
   "outputs": [],
   "source": [
    "import notebook"
   ]
  },
  {
   "cell_type": "code",
   "execution_count": 3,
   "id": "6292dc9e-ed0f-4640-bab8-4cf2f5cd21fc",
   "metadata": {},
   "outputs": [
    {
     "name": "stdout",
     "output_type": "stream",
     "text": [
      "environ({'JPY_PARENT_PID': '9', 'PYDEVD_USE_FRAME_EVAL': 'NO', 'DEBIAN_FRONTEND': 'noninteractive', 'PATH': '/opt/conda/bin:/usr/local/sbin:/usr/local/bin:/usr/sbin:/usr/bin:/sbin:/bin', 'LC_ALL': 'en_US.UTF-8', 'NB_USER': 'jovyan', 'JULIA_DEPOT_PATH': '/opt/julia', 'CONDA_DIR': '/opt/conda', 'SHLVL': '0', 'KDP4_CLIENT_ID': '747393aaba8efe107e092db941b695650c68a2ad84134167e3de89a27188e333', 'XDG_CACHE_HOME': '/home/jovyan/.cache/', 'JULIA_VERSION': '1.7.2', 'KDP4_CLIENT_SECRET': 'c5b60293c0bfd852204c7a4c29b5d9bc4146895ff2fb77e70eb27c72a4964e98', 'NB_GID': '100', 'LANG': 'en_US.UTF-8', 'HOME': '/home/jovyan', 'JUPYTER_TOKEN': 'docker', 'PWD': '/home/jovyan', 'JULIA_PKGDIR': '/opt/julia', 'NB_UID': '1000', 'LANGUAGE': 'en_US.UTF-8', 'HOSTNAME': '07f51374a2cb', 'SHELL': '/bin/bash', 'TERM': 'xterm-color', 'CLICOLOR': '1', 'PAGER': 'cat', 'GIT_PAGER': 'cat', 'MPLBACKEND': 'module://matplotlib_inline.backend_inline'})\n"
     ]
    }
   ],
   "source": [
    "print(os.environ)"
   ]
  },
  {
   "cell_type": "code",
   "execution_count": null,
   "id": "7dd607d4-080e-4033-ac8f-2f89a3547177",
   "metadata": {},
   "outputs": [],
   "source": [
    "CSV_PATH = '/files/employees.csv'\n",
    "\n",
    "DATASET_ID = 'e7be3620-9d16-4e42-91a9-50de15b3d692'\n",
    "\n",
    "##working on this\n",
    "TOKEN = Variable.get(\"kdp_access_token\")\n",
    "\n",
    "def get_json():\n",
    "    data = []\n",
    "    with open(CSV_PATH, encoding='utf-8') as csvf:\n",
    "        csvReader = csv.DictReader(csvf)\n",
    "        for row in csvReader:\n",
    "            print(row)\n",
    "            data.append(row)\n",
    "    return json.dumps(data)\n",
    "\n",
    "def write_to_kdp4(jsonData, datasetId, token):\n",
    "    url = 'https://api.dev.koverse.com/write/' + datasetId\n",
    "    authValue = 'Bearer ' + token\n",
    "    headers = {\"Content-Type\": \"application/json\",\n",
    "               \"Authorization\": authValue}\n",
    "    \n",
    "    print(url)\n",
    "    response = requests.post(url, data=jsonData, headers=headers, timeout=10)\n",
    "    return response\n",
    "\n",
    "\n",
    "def write_data():\n",
    "    data = get_json()\n",
    "    response = write_to_kdp4(data, DATASET_ID, TOKEN)\n",
    "    print(response.content)\n",
    "    print(\"status: \", response)\n",
    "    if response.status_code == 200:\n",
    "        return 0\n",
    "    else:\n",
    "        return 1\n"
   ]
  }
 ],
 "metadata": {
  "kernelspec": {
   "display_name": "Python 3 (ipykernel)",
   "language": "python",
   "name": "python3"
  },
  "language_info": {
   "codemirror_mode": {
    "name": "ipython",
    "version": 3
   },
   "file_extension": ".py",
   "mimetype": "text/x-python",
   "name": "python",
   "nbconvert_exporter": "python",
   "pygments_lexer": "ipython3",
   "version": "3.9.10"
  }
 },
 "nbformat": 4,
 "nbformat_minor": 5
}
