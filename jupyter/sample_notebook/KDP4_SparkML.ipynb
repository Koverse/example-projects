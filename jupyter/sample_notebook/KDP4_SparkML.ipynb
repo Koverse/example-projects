{
 "cells": [
  {
   "cell_type": "markdown",
   "metadata": {},
   "source": [
    "# This Notebook looks at Titanic Survival Data using SparkML\n",
    "## First Connect to Koverse"
   ]
  },
  {
   "cell_type": "markdown",
   "metadata": {},
   "source": [
    "## Then retrieve data into Spark DataFrame"
   ]
  },
  {
   "cell_type": "code",
   "execution_count": 1,
   "metadata": {},
   "outputs": [],
   "source": [
    "from pprint import pprint\n",
    "import warnings\n",
    "warnings.filterwarnings('ignore')\n",
    "\n",
    "from timeit import default_timer as timer\n",
    "\n",
    "from kdp_connector import KdpConn\n",
    "\n",
    "# This example shows you how to use the KDP Python Connector to read data from KDP dataset into\n",
    "# a Pandas Dataframe..\n",
    "\n",
    "email = 'yaddayadda@koverse.com'\n",
    "password = \"???\"\n",
    "workspace_id = 'enytest1'\n",
    "dataset_id = 'd956ba93-8b4b-49eb-859e-8829b51652e1'\n",
    "host = 'https://api.dev.koverse.com'\n",
    "batch_size = 100000\n",
    "starting_record_id = ''\n",
    "path_to_ca_file = ''\n",
    "kdp_conn = KdpConn(path_to_ca_file=path_to_ca_file, host=host)\n",
    "jwt = kdp_conn.create_authentication_token(email=email,password=password,workspace_id=workspace_id)\n",
    "pDF = kdp_conn.read_dataset_to_pandas_dataframe(dataset_id=dataset_id,\n",
    "                                                      jwt=jwt,\n",
    "                                                      starting_record_id=starting_record_id,\n",
    "                                                      batch_size=batch_size)"
   ]
  },
  {
   "cell_type": "code",
   "execution_count": 2,
   "metadata": {},
   "outputs": [],
   "source": [
    "from pyspark.sql import SparkSession\n",
    "#Create PySpark SparkSession\n",
    "spark = SparkSession.builder \\\n",
    "    .master(\"local[1]\") \\\n",
    "    .appName(\"temp1\") \\\n",
    "    .getOrCreate()"
   ]
  },
  {
   "cell_type": "code",
   "execution_count": 3,
   "metadata": {},
   "outputs": [
    {
     "name": "stdout",
     "output_type": "stream",
     "text": [
      "root\n",
      " |-- Embarked: string (nullable = true)\n",
      " |-- Survived: string (nullable = true)\n",
      " |-- Pclass: string (nullable = true)\n",
      " |-- Ticket: string (nullable = true)\n",
      " |-- PassengerId: string (nullable = true)\n",
      " |-- Parch: string (nullable = true)\n",
      " |-- Cabin: string (nullable = true)\n",
      " |-- Sex: string (nullable = true)\n",
      " |-- SibSp: string (nullable = true)\n",
      " |-- Age: string (nullable = true)\n",
      " |-- Name: string (nullable = true)\n",
      " |-- Fare: string (nullable = true)\n",
      "\n",
      "+--------+--------+------+---------------+-----------+-----+-----+------+-----+---+--------------------+-------+\n",
      "|Embarked|Survived|Pclass|         Ticket|PassengerId|Parch|Cabin|   Sex|SibSp|Age|                Name|   Fare|\n",
      "+--------+--------+------+---------------+-----------+-----+-----+------+-----+---+--------------------+-------+\n",
      "|       Q|       0|     3|         330877|          6|    0|     |  male|    0|   |     Moran Mr. James| 8.4583|\n",
      "|       S|       1|     2|     C.A. 34651|        473|    2|     |female|    1| 33|West Mrs. Edwy Ar...|  27.75|\n",
      "|       S|       1|     2|     C.A. 31921|        238|    2|     |female|    0|  8|Collyer Miss. Mar...|  26.25|\n",
      "|       C|       0|     1|       PC 17600|        794|    0|     |  male|    0|   |Hoyt Mr. William ...|30.6958|\n",
      "|       Q|       0|     3|         370372|        127|    0|     |  male|    0|   |  McMahon Mr. Martin|   7.75|\n",
      "|       S|       0|     3|SOTON/OQ 392076|        885|    0|     |  male|    0| 25|Sutehall Mr. Henr...|   7.05|\n",
      "|       S|       0|     2|          28664|        406|    0|     |  male|    1| 34|   Gale Mr. Shadrach|     21|\n",
      "|       S|       1|     2|         228414|        134|    0|     |female|    1| 29|Weisz Mrs. Leopol...|     26|\n",
      "|       S|       0|     3|           7534|        877|    0|     |  male|    0| 20|Gustafsson Mr. Al...| 9.8458|\n",
      "|       S|       0|     3|           1601|        170|    0|     |  male|    0| 28|        Ling Mr. Lee|56.4958|\n",
      "+--------+--------+------+---------------+-----------+-----+-----+------+-----+---+--------------------+-------+\n",
      "only showing top 10 rows\n",
      "\n"
     ]
    }
   ],
   "source": [
    "\n",
    "df=spark.createDataFrame(pDF) \n",
    "df.printSchema()\n",
    "df.show(10)"
   ]
  },
  {
   "cell_type": "markdown",
   "metadata": {},
   "source": [
    "## Explore with SQL"
   ]
  },
  {
   "cell_type": "code",
   "execution_count": 4,
   "metadata": {},
   "outputs": [
    {
     "name": "stdout",
     "output_type": "stream",
     "text": [
      "+------+------------------+\n",
      "|   sex|           avg_age|\n",
      "+------+------------------+\n",
      "|female|27.915708812260537|\n",
      "|  male| 30.72664459161148|\n",
      "+------+------------------+\n",
      "\n"
     ]
    }
   ],
   "source": [
    "df.createOrReplaceTempView(\"titanicTemp\")\n",
    "result = spark.sql('''\n",
    "   SELECT sex, AVG(age) as avg_age\n",
    "   FROM titanicTemp\n",
    "   GROUP BY sex\n",
    "   ''')\n",
    "result.show()\n"
   ]
  },
  {
   "cell_type": "markdown",
   "metadata": {},
   "source": [
    "## Explore data using a dataframe or using Pandas"
   ]
  },
  {
   "cell_type": "code",
   "execution_count": 5,
   "metadata": {},
   "outputs": [
    {
     "name": "stdout",
     "output_type": "stream",
     "text": [
      "<class 'pandas.core.frame.DataFrame'>\n",
      "RangeIndex: 891 entries, 0 to 890\n",
      "Data columns (total 12 columns):\n",
      " #   Column       Non-Null Count  Dtype \n",
      "---  ------       --------------  ----- \n",
      " 0   Embarked     891 non-null    object\n",
      " 1   Survived     891 non-null    object\n",
      " 2   Pclass       891 non-null    object\n",
      " 3   Ticket       891 non-null    object\n",
      " 4   PassengerId  891 non-null    object\n",
      " 5   Parch        891 non-null    object\n",
      " 6   Cabin        891 non-null    object\n",
      " 7   Sex          891 non-null    object\n",
      " 8   SibSp        891 non-null    object\n",
      " 9   Age          891 non-null    object\n",
      " 10  Name         891 non-null    object\n",
      " 11  Fare         891 non-null    object\n",
      "dtypes: object(12)\n",
      "memory usage: 83.7+ KB\n"
     ]
    },
    {
     "data": {
      "text/html": [
       "<div>\n",
       "<style scoped>\n",
       "    .dataframe tbody tr th:only-of-type {\n",
       "        vertical-align: middle;\n",
       "    }\n",
       "\n",
       "    .dataframe tbody tr th {\n",
       "        vertical-align: top;\n",
       "    }\n",
       "\n",
       "    .dataframe thead th {\n",
       "        text-align: right;\n",
       "    }\n",
       "</style>\n",
       "<table border=\"1\" class=\"dataframe\">\n",
       "  <thead>\n",
       "    <tr style=\"text-align: right;\">\n",
       "      <th></th>\n",
       "      <th>Embarked</th>\n",
       "      <th>Survived</th>\n",
       "      <th>Pclass</th>\n",
       "      <th>Ticket</th>\n",
       "      <th>PassengerId</th>\n",
       "      <th>Parch</th>\n",
       "      <th>Cabin</th>\n",
       "      <th>Sex</th>\n",
       "      <th>SibSp</th>\n",
       "      <th>Age</th>\n",
       "      <th>Name</th>\n",
       "      <th>Fare</th>\n",
       "    </tr>\n",
       "  </thead>\n",
       "  <tbody>\n",
       "    <tr>\n",
       "      <th>count</th>\n",
       "      <td>891</td>\n",
       "      <td>891</td>\n",
       "      <td>891</td>\n",
       "      <td>891</td>\n",
       "      <td>891</td>\n",
       "      <td>891</td>\n",
       "      <td>891</td>\n",
       "      <td>891</td>\n",
       "      <td>891</td>\n",
       "      <td>891</td>\n",
       "      <td>891</td>\n",
       "      <td>891</td>\n",
       "    </tr>\n",
       "    <tr>\n",
       "      <th>unique</th>\n",
       "      <td>4</td>\n",
       "      <td>2</td>\n",
       "      <td>3</td>\n",
       "      <td>681</td>\n",
       "      <td>891</td>\n",
       "      <td>7</td>\n",
       "      <td>148</td>\n",
       "      <td>2</td>\n",
       "      <td>7</td>\n",
       "      <td>89</td>\n",
       "      <td>891</td>\n",
       "      <td>248</td>\n",
       "    </tr>\n",
       "    <tr>\n",
       "      <th>top</th>\n",
       "      <td>S</td>\n",
       "      <td>0</td>\n",
       "      <td>3</td>\n",
       "      <td>347082</td>\n",
       "      <td>559</td>\n",
       "      <td>0</td>\n",
       "      <td></td>\n",
       "      <td>male</td>\n",
       "      <td>0</td>\n",
       "      <td></td>\n",
       "      <td>Saundercock Mr. William Henry</td>\n",
       "      <td>8.05</td>\n",
       "    </tr>\n",
       "    <tr>\n",
       "      <th>freq</th>\n",
       "      <td>644</td>\n",
       "      <td>549</td>\n",
       "      <td>491</td>\n",
       "      <td>7</td>\n",
       "      <td>1</td>\n",
       "      <td>678</td>\n",
       "      <td>687</td>\n",
       "      <td>577</td>\n",
       "      <td>608</td>\n",
       "      <td>177</td>\n",
       "      <td>1</td>\n",
       "      <td>43</td>\n",
       "    </tr>\n",
       "  </tbody>\n",
       "</table>\n",
       "</div>"
      ],
      "text/plain": [
       "       Embarked Survived Pclass  Ticket PassengerId Parch Cabin   Sex SibSp  \\\n",
       "count       891      891    891     891         891   891   891   891   891   \n",
       "unique        4        2      3     681         891     7   148     2     7   \n",
       "top           S        0      3  347082         559     0        male     0   \n",
       "freq        644      549    491       7           1   678   687   577   608   \n",
       "\n",
       "        Age                           Name  Fare  \n",
       "count   891                            891   891  \n",
       "unique   89                            891   248  \n",
       "top          Saundercock Mr. William Henry  8.05  \n",
       "freq    177                              1    43  "
      ]
     },
     "execution_count": 5,
     "metadata": {},
     "output_type": "execute_result"
    }
   ],
   "source": [
    "pDF.info(verbose=True)\n",
    "pDF.describe()"
   ]
  },
  {
   "cell_type": "code",
   "execution_count": 6,
   "metadata": {},
   "outputs": [
    {
     "data": {
      "image/png": "[encoded data removed]",
      "text/plain": [
       "<Figure size 720x288 with 2 Axes>"
      ]
     },
     "metadata": {
      "needs_background": "light"
     },
     "output_type": "display_data"
    }
   ],
   "source": [
    "# https://towardsdatascience.com/predicting-the-survival-of-titanic-passengers-30870ccc7e8\n",
    "import matplotlib.pyplot as plt\n",
    "import pandas as pd\n",
    "import seaborn as sns\n",
    "pDF[\"Survived\"] = pd.to_numeric(pDF[\"Survived\"])\n",
    "pDF[\"Age\"] = pd.to_numeric(pDF[\"Age\"])\n",
    "pDF[\"Sex\"] = pDF[\"Sex\"].astype(str)\n",
    "survived = 'Survived'\n",
    "not_survived = 'not survived'\n",
    "fig, axes = plt.subplots(nrows=1, ncols=2,figsize=(10, 4))\n",
    "women = pDF[pDF['Sex']=='female']\n",
    "men = pDF[pDF['Sex']=='male']\n",
    "ax = sns.distplot(women[women['Survived']==1].Age.dropna(), bins=18, label = survived, ax = axes[0], kde =False)\n",
    "ax = sns.distplot(women[women['Survived']==0].Age.dropna(), bins=18, label = not_survived, ax = axes[0], kde =False)\n",
    "ax.legend()\n",
    "ax.set_title('Female')\n",
    "ax = sns.distplot(men[men['Survived']==1].Age.dropna(), bins=18, label = survived, ax = axes[1], kde = False)\n",
    "ax = sns.distplot(men[men['Survived']==0].Age.dropna(), bins=18, label = not_survived, ax = axes[1], kde = False)\n",
    "ax.legend()\n",
    "ax = ax.set_title('Male')"
   ]
  },
  {
   "cell_type": "code",
   "execution_count": 7,
   "metadata": {},
   "outputs": [
    {
     "data": {
      "image/png": "[encoded data removed]",
      "text/plain": [
       "<Figure size 514.88x475.2 with 6 Axes>"
      ]
     },
     "metadata": {
      "needs_background": "light"
     },
     "output_type": "display_data"
    }
   ],
   "source": [
    "grid = sns.FacetGrid(pDF, col='Survived', row='Pclass', height=2.2, aspect=1.6)\n",
    "grid.map(plt.hist, 'Age', alpha=.5, bins=20)\n",
    "grid.add_legend();"
   ]
  },
  {
   "cell_type": "markdown",
   "metadata": {},
   "source": [
    "## Create Features to be used in model"
   ]
  },
  {
   "cell_type": "code",
   "execution_count": 8,
   "metadata": {},
   "outputs": [
    {
     "name": "stdout",
     "output_type": "stream",
     "text": [
      "29 <class 'int'>\n"
     ]
    }
   ],
   "source": [
    "import pyspark.sql.functions as F\n",
    "mean = int(pDF[\"Age\"].mean())\n",
    "print(mean,type(mean))\n",
    "\n",
    "df2 = df.withColumn(\"male\", (F.when(F.col(\"Sex\") == 'male', 1).otherwise(0)))\n",
    "df2 = df2.withColumn(\"Age\",df2.Age.cast('int'))\n",
    "df2 = df2.withColumn(\"embarked_num\", (F.when(F.col(\"Embarked\") == 'Q', 1).otherwise(0)))\n",
    "df2 = df2.withColumn(\"age_new\", (F.when(F.col(\"Age\").isNull() | F.isnan(F.col(\"Age\")), mean).otherwise(F.col(\"Age\").cast('int'))))\n",
    "df2 = df2.withColumn(\"Parch\",df2.Parch.cast('int'))\n",
    "df2 = df2.withColumn(\"Pclass\",df2.Pclass.cast('int'))\n",
    "df2 = df2.withColumn(\"SibSp\",df2.SibSp.cast('int'))\n",
    "df2 = df2.withColumn(\"Survived\",df2.Survived.cast('int'))\n",
    "df2 = df2.withColumn(\"embarked_num\",df2.embarked_num.cast('int'))\n",
    "df2 = df2.withColumn(\"male\",df2.male.cast('int'))\n",
    "df2 = df2.withColumn(\"age_new\",df2.age_new.cast('int'))\n"
   ]
  },
  {
   "cell_type": "code",
   "execution_count": 9,
   "metadata": {},
   "outputs": [
    {
     "name": "stdout",
     "output_type": "stream",
     "text": [
      "<class 'pandas.core.frame.DataFrame'>\n",
      "RangeIndex: 891 entries, 0 to 890\n",
      "Data columns (total 6 columns):\n",
      " #   Column        Non-Null Count  Dtype\n",
      "---  ------        --------------  -----\n",
      " 0   age_new       891 non-null    int32\n",
      " 1   embarked_num  891 non-null    int32\n",
      " 2   male          891 non-null    int32\n",
      " 3   Parch         891 non-null    int32\n",
      " 4   Pclass        891 non-null    int32\n",
      " 5   SibSp         891 non-null    int32\n",
      "dtypes: int32(6)\n",
      "memory usage: 21.0 KB\n"
     ]
    }
   ],
   "source": [
    "df2.toPandas()[['age_new','embarked_num', 'male', 'Parch', 'Pclass', 'SibSp']].info()"
   ]
  },
  {
   "cell_type": "code",
   "execution_count": 11,
   "metadata": {},
   "outputs": [
    {
     "name": "stdout",
     "output_type": "stream",
     "text": [
      "Test Error = 0.171271\n"
     ]
    }
   ],
   "source": [
    "from pyspark.ml import Pipeline\n",
    "from pyspark.ml.classification import RandomForestClassifier\n",
    "from pyspark.ml.feature import IndexToString, StringIndexer, VectorIndexer,VectorAssembler\n",
    "from pyspark.ml.evaluation import MulticlassClassificationEvaluator\n",
    "\n",
    "\n",
    "cols = ['age_new','embarked_num', 'male', 'Parch', 'Pclass', 'SibSp']\n",
    "\n",
    "\n",
    "vecassemb = VectorAssembler(inputCols=cols,outputCol='features')\n",
    "df3 = vecassemb.transform(df2)\n",
    "\n",
    "\n",
    "df_train, df_test = df3.randomSplit([0.8,0.2])\n",
    "\n",
    "rf = RandomForestClassifier(featuresCol='features',labelCol='Survived')\n",
    "model = rf.fit(df_train)\n",
    "result = model.transform(df_test)\n",
    "\n",
    "\n",
    "predictionAndLabels = result.select(\"prediction\", \"Survived\")\n",
    "\n",
    "# Select (prediction, true label) and compute test error\n",
    "evaluator = MulticlassClassificationEvaluator(\n",
    "    labelCol=\"Survived\", predictionCol=\"prediction\", metricName=\"accuracy\")\n",
    "accuracy = evaluator.evaluate(result)\n",
    "print(\"Test Error = %g\" % (1.0 - accuracy))"
   ]
  },
  {
   "cell_type": "code",
   "execution_count": 12,
   "metadata": {},
   "outputs": [
    {
     "data": {
      "text/html": [
       "<div>\n",
       "<style scoped>\n",
       "    .dataframe tbody tr th:only-of-type {\n",
       "        vertical-align: middle;\n",
       "    }\n",
       "\n",
       "    .dataframe tbody tr th {\n",
       "        vertical-align: top;\n",
       "    }\n",
       "\n",
       "    .dataframe thead th {\n",
       "        text-align: right;\n",
       "    }\n",
       "</style>\n",
       "<table border=\"1\" class=\"dataframe\">\n",
       "  <thead>\n",
       "    <tr style=\"text-align: right;\">\n",
       "      <th></th>\n",
       "      <th>name</th>\n",
       "      <th>survived</th>\n",
       "      <th>prediction</th>\n",
       "    </tr>\n",
       "  </thead>\n",
       "  <tbody>\n",
       "    <tr>\n",
       "      <th>0</th>\n",
       "      <td>Moran Mr. James</td>\n",
       "      <td>0</td>\n",
       "      <td>0.0</td>\n",
       "    </tr>\n",
       "    <tr>\n",
       "      <th>1</th>\n",
       "      <td>West Mrs. Edwy Arthur (Ada Mary Worth)</td>\n",
       "      <td>1</td>\n",
       "      <td>1.0</td>\n",
       "    </tr>\n",
       "    <tr>\n",
       "      <th>2</th>\n",
       "      <td>Collyer Miss. Marjorie \"Lottie\"</td>\n",
       "      <td>1</td>\n",
       "      <td>1.0</td>\n",
       "    </tr>\n",
       "    <tr>\n",
       "      <th>3</th>\n",
       "      <td>Hoyt Mr. William Fisher</td>\n",
       "      <td>0</td>\n",
       "      <td>0.0</td>\n",
       "    </tr>\n",
       "    <tr>\n",
       "      <th>4</th>\n",
       "      <td>McMahon Mr. Martin</td>\n",
       "      <td>0</td>\n",
       "      <td>0.0</td>\n",
       "    </tr>\n",
       "    <tr>\n",
       "      <th>...</th>\n",
       "      <td>...</td>\n",
       "      <td>...</td>\n",
       "      <td>...</td>\n",
       "    </tr>\n",
       "    <tr>\n",
       "      <th>886</th>\n",
       "      <td>Dennis Mr. Samuel</td>\n",
       "      <td>0</td>\n",
       "      <td>0.0</td>\n",
       "    </tr>\n",
       "    <tr>\n",
       "      <th>887</th>\n",
       "      <td>Silvey Mrs. William Baird (Alice Munger)</td>\n",
       "      <td>1</td>\n",
       "      <td>1.0</td>\n",
       "    </tr>\n",
       "    <tr>\n",
       "      <th>888</th>\n",
       "      <td>Kallio Mr. Nikolai Erland</td>\n",
       "      <td>0</td>\n",
       "      <td>0.0</td>\n",
       "    </tr>\n",
       "    <tr>\n",
       "      <th>889</th>\n",
       "      <td>Brown Mr. Thomas William Solomon</td>\n",
       "      <td>0</td>\n",
       "      <td>0.0</td>\n",
       "    </tr>\n",
       "    <tr>\n",
       "      <th>890</th>\n",
       "      <td>Petranec Miss. Matilda</td>\n",
       "      <td>0</td>\n",
       "      <td>1.0</td>\n",
       "    </tr>\n",
       "  </tbody>\n",
       "</table>\n",
       "<p>891 rows × 3 columns</p>\n",
       "</div>"
      ],
      "text/plain": [
       "                                         name  survived  prediction\n",
       "0                             Moran Mr. James         0         0.0\n",
       "1      West Mrs. Edwy Arthur (Ada Mary Worth)         1         1.0\n",
       "2             Collyer Miss. Marjorie \"Lottie\"         1         1.0\n",
       "3                     Hoyt Mr. William Fisher         0         0.0\n",
       "4                          McMahon Mr. Martin         0         0.0\n",
       "..                                        ...       ...         ...\n",
       "886                         Dennis Mr. Samuel         0         0.0\n",
       "887  Silvey Mrs. William Baird (Alice Munger)         1         1.0\n",
       "888                 Kallio Mr. Nikolai Erland         0         0.0\n",
       "889          Brown Mr. Thomas William Solomon         0         0.0\n",
       "890                    Petranec Miss. Matilda         0         1.0\n",
       "\n",
       "[891 rows x 3 columns]"
      ]
     },
     "execution_count": 12,
     "metadata": {},
     "output_type": "execute_result"
    }
   ],
   "source": [
    "all_results = model.transform(df3)\n",
    "all_results.select('name','survived','prediction').toPandas()"
   ]
  },
  {
   "cell_type": "code",
   "execution_count": 13,
   "metadata": {},
   "outputs": [
    {
     "data": {
      "text/plain": [
       "Text(0.5, 1.0, 'Feature Importances')"
      ]
     },
     "execution_count": 13,
     "metadata": {},
     "output_type": "execute_result"
    },
    {
     "data": {
      "image/png": "[encoded data removed]",
      "text/plain": [
       "<Figure size 432x288 with 1 Axes>"
      ]
     },
     "metadata": {
      "needs_background": "light"
     },
     "output_type": "display_data"
    }
   ],
   "source": [
    "importances = model.featureImportances\n",
    "\n",
    "x_values = list(range(len(importances)))\n",
    "\n",
    "plt.bar(x_values, importances, orientation = 'vertical')\n",
    "plt.xticks(x_values, cols, rotation=40)\n",
    "plt.ylabel('Importance')\n",
    "plt.xlabel('Feature')\n",
    "plt.title('Feature Importances')"
   ]
  },
  {
   "cell_type": "code",
   "execution_count": 30,
   "metadata": {},
   "outputs": [
    {
     "data": {
      "text/plain": [
       "DataFrame[Embarked: string, Survived: int, Pclass: int, Ticket: string, PassengerId: string, Parch: int, Cabin: string, Sex: string, SibSp: int, Age: int, Name: string, Fare: string, male: int, embarked_num: int, age_new: int, features: vector, rawPrediction: vector, probability: vector, prediction: double]"
      ]
     },
     "execution_count": 30,
     "metadata": {},
     "output_type": "execute_result"
    }
   ],
   "source": [
    "all_results"
   ]
  },
  {
   "cell_type": "code",
   "execution_count": 51,
   "metadata": {},
   "outputs": [
    {
     "name": "stdout",
     "output_type": "stream",
     "text": [
      "<class 'pandas.core.frame.DataFrame'>\n",
      "RangeIndex: 891 entries, 0 to 890\n",
      "Data columns (total 9 columns):\n",
      " #   Column        Non-Null Count  Dtype  \n",
      "---  ------        --------------  -----  \n",
      " 0   age_new       891 non-null    int32  \n",
      " 1   embarked_num  891 non-null    int32  \n",
      " 2   male          891 non-null    int32  \n",
      " 3   Parch         891 non-null    int32  \n",
      " 4   Pclass        891 non-null    int32  \n",
      " 5   SibSp         891 non-null    int32  \n",
      " 6   Name          891 non-null    string \n",
      " 7   Survived      891 non-null    int32  \n",
      " 8   prediction    891 non-null    float64\n",
      "dtypes: float64(1), int32(7), string(1)\n",
      "memory usage: 38.4 KB\n"
     ]
    }
   ],
   "source": [
    "\n",
    "dfOut = all_results.toPandas()[['age_new','embarked_num', 'male', 'Parch', 'Pclass', 'SibSp','Name','Survived','prediction']]\n",
    "dfOut.Name = dfOut.Name.astype('string')\n",
    "dfOut.info()"
   ]
  },
  {
   "cell_type": "code",
   "execution_count": 34,
   "metadata": {},
   "outputs": [
    {
     "name": "stdout",
     "output_type": "stream",
     "text": [
      "<class 'pandas.core.frame.DataFrame'>\n",
      "RangeIndex: 891 entries, 0 to 890\n",
      "Data columns (total 6 columns):\n",
      " #   Column        Non-Null Count  Dtype\n",
      "---  ------        --------------  -----\n",
      " 0   age_new       891 non-null    int32\n",
      " 1   embarked_num  891 non-null    int32\n",
      " 2   male          891 non-null    int32\n",
      " 3   Parch         891 non-null    int32\n",
      " 4   Pclass        891 non-null    int32\n",
      " 5   SibSp         891 non-null    int32\n",
      "dtypes: int32(6)\n",
      "memory usage: 21.0 KB\n"
     ]
    }
   ],
   "source": []
  },
  {
   "cell_type": "markdown",
   "metadata": {},
   "source": [
    "## Save back to Koverse"
   ]
  },
  {
   "cell_type": "code",
   "execution_count": 53,
   "metadata": {},
   "outputs": [
    {
     "name": "stdout",
     "output_type": "stream",
     "text": [
      "'partitions: {0, 1, 2, 3, 4, 5, 6, 7, 8, 9}'\n"
     ]
    }
   ],
   "source": [
    "# ingest data\n",
    "partitions_set = kdp_conn.ingest(dfOut, \"5ffbfb5b-6394-4d60-836f-ef99fc582d06\", jwt, batch_size)\n",
    "\n",
    "pprint('partitions: %s' % partitions_set)"
   ]
  },
  {
   "cell_type": "code",
   "execution_count": null,
   "metadata": {},
   "outputs": [],
   "source": []
  }
 ],
 "metadata": {
  "kernelspec": {
   "display_name": "Python 3",
   "language": "python",
   "name": "python3"
  },
  "language_info": {
   "codemirror_mode": {
    "name": "ipython",
    "version": 3
   },
   "file_extension": ".py",
   "mimetype": "text/x-python",
   "name": "python",
   "nbconvert_exporter": "python",
   "pygments_lexer": "ipython3",
   "version": "3.8.8"
  }
 },
 "nbformat": 4,
 "nbformat_minor": 4
}
